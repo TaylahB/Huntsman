{
 "cells": [
  {
   "cell_type": "markdown",
   "metadata": {},
   "source": [
    "# Dust_Mean_STD - without TABLE\n",
    "- This outputs the dust mean and STD values given RA, DEC and a relavent field of view\n",
    "- Not in a table"
   ]
  },
  {
   "cell_type": "code",
   "execution_count": null,
   "metadata": {
    "collapsed": true
   },
   "outputs": [],
   "source": [
    "\"\"\"IMPORTS\"\"\"\n",
    "from astropy import units as u\n",
    "from astroquery.irsa_dust import IrsaDust\n",
    "import astropy.units as u\n",
    "import numpy as np\n",
    "import matplotlib.patches as patches\n",
    "import matplotlib\n",
    "\n",
    "\"\"\"Parameters\"\"\"\n",
    "\"\"\"ra=???\n",
    "dec=???\n",
    "fov=???\"\"\"\n",
    "\n",
    "\n",
    "def dust_mean_std(ra, dec, fov):\n",
    "    \"\"\"Input args are Right Ascension (RA) and Declination(DEC) and must be in format [e.g: -29 51 56.74]\"\"\"\n",
    "    dust_map = IrsaDust.get_images(\"%s %s\" %(ra, dec), image_type=\"ebv\", radius=fov * u.deg)\n",
    "    dust=[]\n",
    "    for f in dust_map:\n",
    "        dust.append(np.array((f)[0].data, dtype=float))\n",
    "    dust_std=round(np.std(dust),4)\n",
    "    dust_mean=round(np.mean(dust), 4)\n",
    "    return dust_mean, dust_std\n",
    "    \n",
    "def print_dust(dust_mean, dust_std):\n",
    "    print (\"Dust Mean: \", dust_mean)\n",
    "    print (\"Dust STD: \", dust_std)\n",
    "\n",
    "\n",
    "dust_mean, dust_std=dust_mean_std(ra,dec,fov)\n",
    "print_dust(dust_mean, dust_std)"
   ]
  },
  {
   "cell_type": "markdown",
   "metadata": {},
   "source": [
    "### Example - without TABLE"
   ]
  },
  {
   "cell_type": "code",
   "execution_count": 1,
   "metadata": {
    "collapsed": false
   },
   "outputs": [
    {
     "name": "stdout",
     "output_type": "stream",
     "text": [
      "Downloading http://irsa.ipac.caltech.edu//workspace/TMP_RXt8Im_5370/DUST/17_13_44.211_-37_06_15.944.v0001/p087Dust.fits [Done]\n",
      "Dust Mean:  7.1418\n",
      "Dust STD:  5.6799\n"
     ]
    }
   ],
   "source": [
    "\"\"\"IMPORTS\"\"\"\n",
    "from astropy import units as u\n",
    "from astroquery.irsa_dust import IrsaDust\n",
    "import astropy.units as u\n",
    "import numpy as np\n",
    "import matplotlib.patches as patches\n",
    "import matplotlib\n",
    "\n",
    "\"\"\"Parameters\"\"\"\n",
    "ra='17 13 44.211'\n",
    "dec='-37 06 15.944'\n",
    "fov=2\n",
    "\n",
    "\n",
    "def dust_mean_std(ra, dec, fov):\n",
    "    \"\"\"Input args are Right Ascension (RA) and Declination(DEC) and must be in format [e.g: -29 51 56.74]\"\"\"\n",
    "    dust_map = IrsaDust.get_images(\"%s %s\" %(ra, dec), image_type=\"ebv\", radius=fov * u.deg)\n",
    "    dust=[]\n",
    "    for f in dust_map:\n",
    "        dust.append(np.array((f)[0].data, dtype=float))\n",
    "    dust_std=round(np.std(dust),4)\n",
    "    dust_mean=round(np.mean(dust), 4)\n",
    "    return dust_mean, dust_std\n",
    "    \n",
    "def print_dust(dust_mean, dust_std):\n",
    "    print (\"Dust Mean: \", dust_mean)\n",
    "    print (\"Dust STD: \", dust_std)\n",
    "\n",
    "\n",
    "dust_mean, dust_std=dust_mean_std(ra,dec,fov)\n",
    "print_dust(dust_mean, dust_std)"
   ]
  },
  {
   "cell_type": "markdown",
   "metadata": {},
   "source": [
    "# Dust_Mean_STD - with TABLE\n",
    "- This outputs the dust mean and STD values given RA, DEC and a relavent field of view\n",
    "- In a table"
   ]
  },
  {
   "cell_type": "code",
   "execution_count": null,
   "metadata": {
    "collapsed": true
   },
   "outputs": [],
   "source": [
    "\"\"\"IMPORTS\"\"\"\n",
    "from astropy import units as u\n",
    "from astroquery.irsa_dust import IrsaDust\n",
    "import astropy.units as u\n",
    "import numpy as np\n",
    "import matplotlib.patches as patches\n",
    "import matplotlib\n",
    "from astropy.table import Table, Column\n",
    "\n",
    "\"\"\"Parameters\"\"\"\n",
    "\"\"\"ra=???\n",
    "dec=???\n",
    "fov=???\"\"\"\n",
    "\n",
    "\n",
    "def dust_mean_std(ra, dec, field_of_view):\n",
    "    \"\"\"Input args are Right Ascension (RA) and Declination(DEC) and must be in format [e.g: -29 51 56.74]\"\"\"\n",
    "    dust_map = IrsaDust.get_images(\"%s %s\" %(ra, dec), image_type=\"ebv\", radius=field_of_view * u.deg)\n",
    "    dust=[]\n",
    "    for f in dust_map:\n",
    "        dust.append(np.array((f)[0].data, dtype=float))\n",
    "    dust_std=round(np.std(dust),4)\n",
    "    dust_mean=round(np.mean(dust), 4)\n",
    "    return dust_mean, dust_std\n",
    "    \n",
    "def print_dust(dust_mean, dust_std):\n",
    "    data_rows = [(dust_mean, dust_std)]\n",
    "    t = Table(rows=data_rows, names=('Dust Mean', 'Dust STD'))\n",
    "    print(t)\n",
    "\n",
    "\n",
    "dust_mean, dust_std=dust_mean_std(ra,dec,field_of_view)\n",
    "print_dust(dust_mean, dust_std)"
   ]
  },
  {
   "cell_type": "markdown",
   "metadata": {},
   "source": [
    "### Example - with TABLE"
   ]
  },
  {
   "cell_type": "code",
   "execution_count": 1,
   "metadata": {
    "collapsed": false
   },
   "outputs": [
    {
     "name": "stdout",
     "output_type": "stream",
     "text": [
      "Downloading http://irsa.ipac.caltech.edu//workspace/TMP_5A8emv_5477/DUST/17_13_44.211_-37_06_15.944.v0001/p087Dust.fits [Done]\n",
      "Dust Mean Dust STD\n",
      "--------- --------\n",
      "   7.1418   5.6799\n"
     ]
    }
   ],
   "source": [
    "\"\"\"IMPORTS\"\"\"\n",
    "from astropy import units as u\n",
    "from astroquery.irsa_dust import IrsaDust\n",
    "import astropy.units as u\n",
    "import numpy as np\n",
    "import matplotlib.patches as patches\n",
    "import matplotlib\n",
    "from astropy.table import Table, Column\n",
    "\n",
    "\"\"\"Parameters\"\"\"\n",
    "ra='17 13 44.211'\n",
    "dec='-37 06 15.944'\n",
    "field_of_view=2\n",
    "\n",
    "\n",
    "def dust_mean_std(ra, dec, field_of_view):\n",
    "    \"\"\"Input args are Right Ascension (RA) and Declination(DEC) and must be in format [e.g: -29 51 56.74]\"\"\"\n",
    "    dust_map = IrsaDust.get_images(\"%s %s\" %(ra, dec), image_type=\"ebv\", radius=field_of_view * u.deg)\n",
    "    dust=[]\n",
    "    for f in dust_map:\n",
    "        dust.append(np.array((f)[0].data, dtype=float))\n",
    "    dust_std=round(np.std(dust),4)\n",
    "    dust_mean=round(np.mean(dust), 4)\n",
    "    return dust_mean, dust_std\n",
    "    \n",
    "def print_dust(dust_mean, dust_std):\n",
    "    data_rows = [(dust_mean, dust_std)]\n",
    "    t = Table(rows=data_rows, names=('Dust Mean', 'Dust STD'))\n",
    "    print(t)\n",
    "\n",
    "\n",
    "dust_mean, dust_std=dust_mean_std(ra,dec,field_of_view)\n",
    "print_dust(dust_mean, dust_std)"
   ]
  }
 ],
 "metadata": {
  "anaconda-cloud": {},
  "kernelspec": {
   "display_name": "Python [conda root]",
   "language": "python",
   "name": "conda-root-py"
  },
  "language_info": {
   "codemirror_mode": {
    "name": "ipython",
    "version": 3
   },
   "file_extension": ".py",
   "mimetype": "text/x-python",
   "name": "python",
   "nbconvert_exporter": "python",
   "pygments_lexer": "ipython3",
   "version": "3.5.2"
  }
 },
 "nbformat": 4,
 "nbformat_minor": 1
}
