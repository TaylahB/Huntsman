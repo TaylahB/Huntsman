{
 "cells": [
  {
   "cell_type": "markdown",
   "metadata": {},
   "source": [
    "# Dust_Mean_STD - with TABLE\n",
    "- This outputs the dust mean and STD values given RA, DEC and a relavent field of view\n",
    "- In a table"
   ]
  },
  {
   "cell_type": "code",
   "execution_count": null,
   "metadata": {
    "collapsed": false
   },
   "outputs": [],
   "source": [
    "\"\"\"IMPORTS\"\"\"\n",
    "from astropy import units as u\n",
    "from astroquery.irsa_dust import IrsaDust\n",
    "import astropy.units as u\n",
    "import numpy as np\n",
    "import matplotlib.patches as patches\n",
    "import matplotlib\n",
    "from astropy.table import Table, Column\n",
    "\n",
    "\"\"\"Parameters\n",
    "ra=\n",
    "dec=\n",
    "field of view=\"\"\"\n",
    "\n",
    "\n",
    "def dust_mean_std(ra, dec, field_of_view=None):\n",
    "    \"\"\"Input args are Right Ascension (RA) and Declination(DEC) and must be in format [e.g: -29 51 56.74]\"\"\"\n",
    "    if field_of_view == None:\n",
    "        dust_map = IrsaDust.get_images(\"%s %s\" %(ra, dec), image_type=\"ebv\", radius=2.6 * u.deg)\n",
    "    else:\n",
    "        dust_map = IrsaDust.get_images(\"%s %s\" %(ra, dec), image_type=\"ebv\", radius=field_of_view * u.deg)\n",
    "    dust=[]\n",
    "    for f in dust_map:\n",
    "        dust.append(np.array((f)[0].data, dtype=float))\n",
    "    dust_std=round(np.std(dust),4)\n",
    "    dust_mean=round(np.mean(dust), 4)\n",
    "    data_rows = [(dust_mean, dust_std)]\n",
    "    t = Table(rows=data_rows, names=('Dust Mean [E(B-V)]', 'Dust STD [E(B-V)]'))\n",
    "    print ()\n",
    "    print(t)\n",
    "    print ()\n",
    "    print ()\n"
   ]
  },
  {
   "cell_type": "code",
   "execution_count": null,
   "metadata": {
    "collapsed": false
   },
   "outputs": [],
   "source": [
    "\"\"\"IMPORTS\"\"\"\n",
    "from astropy.coordinates import SkyCoord\n",
    "import astropy.units as u\n",
    "\n",
    "\"\"\"Parameters\n",
    "ra='13 37 00'\n",
    "dec='-29 51 56.74'\"\"\"\n",
    "\n",
    "\n",
    "def lat_long(ra, dec):\n",
    "    \"\"\"Input args are Right Ascension (RA) and Declination(DEC) and must be in format [e.g: -29 51 56.74]\"\"\"\n",
    "    lb=SkyCoord('%s %s'%(ra, dec), unit=(u.hourangle,u.deg))\n",
    "    b=lb.galactic.b\n",
    "    l=lb.galactic.l\n",
    "    print ()\n",
    "    print (\"Galactic Latitude (b):  \", b)\n",
    "    print (\"Galactic Longitude (l): \", l)\n",
    "    print ()\n",
    "    print ()"
   ]
  },
  {
   "cell_type": "code",
   "execution_count": null,
   "metadata": {
    "collapsed": true
   },
   "outputs": [],
   "source": []
  }
 ],
 "metadata": {
  "anaconda-cloud": {},
  "kernelspec": {
   "display_name": "Python [conda root]",
   "language": "python",
   "name": "conda-root-py"
  },
  "language_info": {
   "codemirror_mode": {
    "name": "ipython",
    "version": 3
   },
   "file_extension": ".py",
   "mimetype": "text/x-python",
   "name": "python",
   "nbconvert_exporter": "python",
   "pygments_lexer": "ipython3",
   "version": "3.5.2"
  }
 },
 "nbformat": 4,
 "nbformat_minor": 1
}
