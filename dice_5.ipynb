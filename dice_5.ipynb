{
 "cells": [
  {
   "cell_type": "markdown",
   "metadata": {},
   "source": [
    "# LOOPING"
   ]
  },
  {
   "cell_type": "code",
   "execution_count": 1,
   "metadata": {
    "collapsed": false
   },
   "outputs": [
    {
     "name": "stdout",
     "output_type": "stream",
     "text": [
      "<SkyCoord (ICRS): (ra, dec) in deg\n",
      "    [(204.25, -29.86576111), (204.60440152, -29.5113253),\n",
      "     (204.60404228, -30.21891709), (203.89723675, -30.21917225),\n",
      "     (203.89542846, -29.51106704), (204.25023185, -29.86602311),\n",
      "     (204.60250262, -29.51282241), (204.60451212, -30.21801538),\n",
      "     (203.89656647, -30.21888788), (203.89674496, -29.5134158),\n",
      "     (204.25048314, -29.8646916), (204.60379573, -29.51328279),\n",
      "     (204.60429942, -30.21897337), (203.89776067, -30.21870094)]>\n"
     ]
    }
   ],
   "source": [
    "import astropy.units as u\n",
    "from astropy.coordinates import SkyCoord\n",
    "import random\n",
    "import math\n",
    "import itertools\n",
    "\n",
    "\"\"\"ra='13 37 00'\n",
    "dec='-29 51 56.74'\n",
    "ra_dec=SkyCoord('%s %s'%(ra, dec), unit=(u.hourangle,u.deg))\n",
    "offset=0.5*u.deg\n",
    "rand=10*u.arcsec\n",
    "number=14\"\"\"\n",
    "\n",
    "def dither_dice5rl(ra_dec, offset=30*u.arcsec, rand=15*u.arcsec, number=5):\n",
    "    if not isinstance(offset,u.Quantity):\n",
    "        offset=offset*u.arcsec\n",
    "    \"\"\"ra_dec=SkyCoord('%s %s'%(ra, dec), unit=(u.hourangle,u.deg))\"\"\"\n",
    "    ra=ra_dec.ra\n",
    "    dec=ra_dec.dec\n",
    "    loops=math.ceil(number/5.0)\n",
    "    \n",
    "    RA=[ra]\n",
    "    DEC=[dec]\n",
    "    for _ in itertools.repeat(None, loops):\n",
    "        ra1=ra+((0.5*2**0.5)*offset) #0.5*2**0.5 is due to adjacent side in a right angle triangle (cos45)\n",
    "        ra1=random.uniform(ra1-(rand*0.5),ra1+(rand*0.5)) #Sets randomness on region around point\n",
    "        RA.append(ra1)\n",
    "        ra2=ra+((0.5*2**0.5)*offset)\n",
    "        ra2=random.uniform(ra2-(rand*0.5),ra2+(rand*0.5))\n",
    "        RA.append(ra2)\n",
    "        ra3=ra-((0.5*2**0.5)*offset)\n",
    "        ra3=random.uniform(ra3-(rand*0.5),ra3+(rand*0.5))\n",
    "        RA.append(ra3)\n",
    "        ra4=ra-((0.5*2**0.5)*offset)\n",
    "        ra4=random.uniform(ra4-(rand*0.5),ra4+(rand*0.5))\n",
    "        RA.append(ra4)\n",
    "        ra5=random.uniform(ra-(rand*0.5),ra+(rand*0.5))\n",
    "        RA.append(ra5)\n",
    "\n",
    "        dec1=dec+((0.5*2**0.5)*offset)\n",
    "        dec1=random.uniform(dec1-(rand*0.5),dec1+(rand*0.5))\n",
    "        DEC.append(dec1)\n",
    "        dec2=dec-((0.5*2**0.5)*offset)\n",
    "        dec2=random.uniform(dec2-(rand*0.5),dec2+(rand*0.5))\n",
    "        DEC.append(dec2)\n",
    "        dec3=dec-((0.5*2**0.5)*offset)\n",
    "        dec3=random.uniform(dec3-(rand*0.5),dec3+(rand*0.5))\n",
    "        DEC.append(dec3)\n",
    "        dec4=dec+((0.5*2**0.5)*offset)\n",
    "        dec4=random.uniform(dec4-(rand*0.5),dec4+(rand*0.5))\n",
    "        DEC.append(dec4)\n",
    "        dec5=random.uniform(dec-(rand*0.5),dec+(rand*0.5))\n",
    "        DEC.append(dec5)\n",
    "    \n",
    "    RA=RA[:number]\n",
    "    DEC=DEC[:number]\n",
    "    All=SkyCoord(RA,DEC)\n",
    "    return All"
   ]
  }
 ],
 "metadata": {
  "anaconda-cloud": {},
  "kernelspec": {
   "display_name": "Python [conda root]",
   "language": "python",
   "name": "conda-root-py"
  },
  "language_info": {
   "codemirror_mode": {
    "name": "ipython",
    "version": 3
   },
   "file_extension": ".py",
   "mimetype": "text/x-python",
   "name": "python",
   "nbconvert_exporter": "python",
   "pygments_lexer": "ipython3",
   "version": "3.5.2"
  }
 },
 "nbformat": 4,
 "nbformat_minor": 1
}
