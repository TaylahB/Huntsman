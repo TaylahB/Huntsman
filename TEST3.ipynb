{
 "cells": [
  {
   "cell_type": "markdown",
   "metadata": {},
   "source": [
    "# DICE-5"
   ]
  },
  {
   "cell_type": "code",
   "execution_count": null,
   "metadata": {
    "collapsed": false
   },
   "outputs": [],
   "source": [
    "import astropy.units as u\n",
    "from astropy.coordinates import SkyCoord\n",
    "\n",
    "ra='13 37 00'\n",
    "dec='-29 51 56.74'\n",
    "ra_dec=SkyCoord('%s %s'%(ra, dec), unit=(u.hourangle,u.deg))\n",
    "offset=0.5*u.deg\n",
    "\n",
    "def dither_dice5(ra_dec,offset=30*u.arcsec):\n",
    "    if not isinstance(offset,u.Quantity):\n",
    "        offset=offset*u.arcsec\n",
    "    \"\"\"ra_dec=SkyCoord('%s %s'%(ra, dec), unit=(u.hourangle,u.deg))\"\"\"\n",
    "    ra=ra_dec.ra\n",
    "    dec=ra_dec.dec\n",
    "    \n",
    "    ra1=ra+((0.5*2**0.5)*offset)\n",
    "    ra1=ra1.to(u.hourangle)\n",
    "    ra2=ra+((0.5*2**0.5)*offset)\n",
    "    ra2=ra2.to(u.hourangle)\n",
    "    ra3=ra-((0.5*2**0.5)*offset)\n",
    "    ra3=ra3.to(u.hourangle)\n",
    "    ra4=ra-((0.5*2**0.5)*offset)\n",
    "    ra4=ra4.to(u.hourangle)\n",
    "    \n",
    "    dec1=dec+((0.5*2**0.5)*offset)\n",
    "    dec1=dec1.to(u.deg)\n",
    "    dec2=dec-((0.5*2**0.5)*offset)\n",
    "    dec2=dec2.to(u.deg)\n",
    "    dec3=dec-((0.5*2**0.5)*offset)\n",
    "    dec3=dec3.to(u.deg)\n",
    "    dec4=dec+((0.5*2**0.5)*offset)\n",
    "    dec4=dec4.to(u.deg)\n",
    "    \n",
    "    \n",
    "    RA=[ra,ra1,ra2,ra3,ra4]\n",
    "    DEC=[dec,dec1,dec2,dec3,dec4]\n",
    "    All=SkyCoord(RA,DEC)\n",
    "    print (All)\n",
    "    return All\n",
    "\n",
    "All=dither_dice5(ra_dec,offset)"
   ]
  },
  {
   "cell_type": "markdown",
   "metadata": {},
   "source": [
    "# DICE-9"
   ]
  },
  {
   "cell_type": "code",
   "execution_count": null,
   "metadata": {
    "collapsed": false
   },
   "outputs": [],
   "source": [
    "import astropy.units as u\n",
    "from astropy.coordinates import SkyCoord\n",
    "\n",
    "ra='13 37 00'\n",
    "dec='-29 51 56.74'\n",
    "ra_dec=SkyCoord('%s %s'%(ra, dec), unit=(u.hourangle,u.deg))\n",
    "offset=0.5*u.deg\n",
    "\n",
    "def dither_dice9(ra_dec,offset=30*u.arcsec):\n",
    "    if not isinstance(offset,u.Quantity):\n",
    "        offset=offset*u.arcsec\n",
    "    \"\"\"ra_dec=SkyCoord('%s %s'%(ra, dec), unit=(u.hourangle,u.deg))\"\"\"\n",
    "    ra=ra_dec.ra\n",
    "    dec=ra_dec.dec\n",
    "    \n",
    "    ra1=ra+((0.5*2**0.5)*offset)\n",
    "    ra1=ra1.to(u.hourangle)\n",
    "    ra2=ra+((0.5*2**0.5)*offset)\n",
    "    ra2=ra2.to(u.hourangle)\n",
    "    ra3=ra+((0.5*2**0.5)*offset)\n",
    "    ra3=ra3.to(u.hourangle)\n",
    "    ra5=ra-((0.5*2**0.5)*offset)\n",
    "    ra5=ra5.to(u.hourangle)\n",
    "    ra6=ra-((0.5*2**0.5)*offset)\n",
    "    ra6=ra6.to(u.hourangle)\n",
    "    ra7=ra-((0.5*2**0.5)*offset)\n",
    "    ra7=ra7.to(u.hourangle)\n",
    "    \n",
    "    \n",
    "    dec1=dec+((0.5*2**0.5)*offset)\n",
    "    dec1=dec1.to(u.deg)\n",
    "    dec3=dec-((0.5*2**0.5)*offset)\n",
    "    dec3=dec3.to(u.deg)\n",
    "    dec4=dec-((0.5*2**0.5)*offset)\n",
    "    dec4=dec4.to(u.deg)\n",
    "    dec5=dec-((0.5*2**0.5)*offset)\n",
    "    dec5=dec5.to(u.deg)\n",
    "    dec7=dec+((0.5*2**0.5)*offset)\n",
    "    dec7=dec7.to(u.deg)\n",
    "    dec8=dec+((0.5*2**0.5)*offset)\n",
    "    dec8=dec8.to(u.deg)    \n",
    "    \n",
    "    RA=[ra,ra1,ra2,ra3,ra,ra5,ra6,ra7,ra]\n",
    "    DEC=[dec,dec1,dec,dec3,dec4,dec5,dec,dec7,dec8]\n",
    "    All=SkyCoord(RA,DEC)\n",
    "    print (All)\n",
    "    return All\n",
    "\n",
    "All=dither_dice9(ra_dec,offset)"
   ]
  },
  {
   "cell_type": "markdown",
   "metadata": {},
   "source": [
    "# Random"
   ]
  },
  {
   "cell_type": "code",
   "execution_count": null,
   "metadata": {
    "collapsed": false
   },
   "outputs": [],
   "source": [
    "import astropy.units as u\n",
    "from astropy.coordinates import SkyCoord\n",
    "import itertools\n",
    "import random\n",
    "\n",
    "ra='13 37 00'\n",
    "dec='-29 51 56.74'\n",
    "ra_dec=SkyCoord('%s %s'%(ra, dec), unit=(u.hourangle,u.deg))\n",
    "offset=0.5*u.deg\n",
    "\n",
    "def dither_dice(ra_dec,offset=30*u.arcsec):\n",
    "    if not isinstance(offset,u.Quantity):\n",
    "        offset=offset*u.arcsec\n",
    "    \"\"\"ra_dec=SkyCoord('%s %s'%(ra, dec), unit=(u.hourangle,u.deg))\"\"\"\n",
    "    ra=ra_dec.ra\n",
    "    dec=ra_dec.dec\n",
    "    RA=[ra]\n",
    "    DEC=[dec]\n",
    "    for _ in itertools.repeat(None, 7):\n",
    "        offset_ra=random.uniform(ra-(offset*0.5),ra+(offset*0.5))\n",
    "        RA.append(offset_ra)\n",
    "        offset_dec=random.uniform(dec-(offset*0.5),dec+(offset*0.5))\n",
    "        DEC.append(offset_dec)\n",
    "    \n",
    "    All=SkyCoord(RA,DEC)\n",
    "    print (All)\n",
    "    return All\n",
    "\n",
    "All=dither_dice(ra_dec,offset)"
   ]
  },
  {
   "cell_type": "markdown",
   "metadata": {},
   "source": [
    "# Add Randomness to Each Dither"
   ]
  },
  {
   "cell_type": "markdown",
   "metadata": {},
   "source": [
    "- DICE 5"
   ]
  },
  {
   "cell_type": "code",
   "execution_count": null,
   "metadata": {
    "collapsed": false
   },
   "outputs": [],
   "source": [
    "import astropy.units as u\n",
    "from astropy.coordinates import SkyCoord\n",
    "import random\n",
    "\n",
    "ra='13 37 00'\n",
    "dec='-29 51 56.74'\n",
    "ra_dec=SkyCoord('%s %s'%(ra, dec), unit=(u.hourangle,u.deg))\n",
    "offset=0.5*u.deg\n",
    "rand=10*u.arcsec\n",
    "\n",
    "def dither_dice5r(ra_dec,offset=30*u.arcsec, rand=15*u.arcsec):\n",
    "    if not isinstance(offset,u.Quantity):\n",
    "        offset=offset*u.arcsec\n",
    "    \"\"\"ra_dec=SkyCoord('%s %s'%(ra, dec), unit=(u.hourangle,u.deg))\"\"\"\n",
    "    ra=ra_dec.ra\n",
    "    dec=ra_dec.dec\n",
    "    \n",
    "    ra1=ra+((0.5*2**0.5)*offset) #0.5*2**0.5 is due to adjacent side in a right angle triangle (cos45)\n",
    "    ra1=random.uniform(ra1-(rand*0.5),ra1+(rand*0.5)) #Sets randomness on region around point\n",
    "    ra2=ra+((0.5*2**0.5)*offset)\n",
    "    ra2=random.uniform(ra2-(rand*0.5),ra2+(rand*0.5))\n",
    "    ra3=ra-((0.5*2**0.5)*offset)\n",
    "    ra3=random.uniform(ra3-(rand*0.5),ra3+(rand*0.5))\n",
    "    ra4=ra-((0.5*2**0.5)*offset)\n",
    "    ra4=random.uniform(ra4-(rand*0.5),ra4+(rand*0.5))\n",
    "    \n",
    "    dec1=dec+((0.5*2**0.5)*offset)\n",
    "    dec1=random.uniform(dec1-(rand*0.5),dec1+(rand*0.5))\n",
    "    dec2=dec-((0.5*2**0.5)*offset)\n",
    "    dec2=random.uniform(dec2-(rand*0.5),dec2+(rand*0.5))\n",
    "    dec3=dec-((0.5*2**0.5)*offset)\n",
    "    dec3=random.uniform(dec3-(rand*0.5),dec3+(rand*0.5))\n",
    "    dec4=dec+((0.5*2**0.5)*offset)\n",
    "    dec4=random.uniform(dec4-(rand*0.5),dec4+(rand*0.5))\n",
    "    \n",
    "    \n",
    "    RA=[ra,ra1,ra2,ra3,ra4]\n",
    "    DEC=[dec,dec1,dec2,dec3,dec4]\n",
    "    All=SkyCoord(RA,DEC)\n",
    "    print (All)\n",
    "    return All\n",
    "\n",
    "All=dither_dice5r(ra_dec,offset,rand)"
   ]
  },
  {
   "cell_type": "markdown",
   "metadata": {},
   "source": [
    "- DICE 9"
   ]
  },
  {
   "cell_type": "code",
   "execution_count": null,
   "metadata": {
    "collapsed": false
   },
   "outputs": [],
   "source": [
    "import astropy.units as u\n",
    "from astropy.coordinates import SkyCoord\n",
    "import random\n",
    "\n",
    "ra='13 37 00'\n",
    "dec='-29 51 56.74'\n",
    "ra_dec=SkyCoord('%s %s'%(ra, dec), unit=(u.hourangle,u.deg))\n",
    "offset=0.5*u.deg\n",
    "rand=10*u.arcsec\n",
    "\n",
    "\n",
    "def dither_dice9r(ra_dec,offset=30*u.arcsec,rand=10*u.arcsec):\n",
    "    if not isinstance(offset,u.Quantity):\n",
    "        offset=offset*u.arcsec\n",
    "    \"\"\"ra_dec=SkyCoord('%s %s'%(ra, dec), unit=(u.hourangle,u.deg))\"\"\"\n",
    "    ra=ra_dec.ra\n",
    "    dec=ra_dec.dec\n",
    "    \n",
    "    ra1=ra+((0.5*2**0.5)*offset) #0.5*2**0.5 is due to adjacent side in a right angle triangle (cos45)\n",
    "    ra1=random.uniform(ra1-(rand*0.5),ra1+(rand*0.5)) #Sets randomness on region around point\n",
    "    ra2=ra+((0.5*2**0.5)*offset)\n",
    "    ra2=random.uniform(ra2-(rand*0.5),ra2+(rand*0.5))\n",
    "    ra3=ra+((0.5*2**0.5)*offset)\n",
    "    ra3=random.uniform(ra3-(rand*0.5),ra3+(rand*0.5))\n",
    "    ra4=random.uniform(ra-(rand*0.5),ra+(rand*0.5))\n",
    "    ra5=ra-((0.5*2**0.5)*offset)\n",
    "    ra5=random.uniform(ra5-(rand*0.5),ra5+(rand*0.5))\n",
    "    ra6=ra-((0.5*2**0.5)*offset)\n",
    "    ra6=random.uniform(ra6-(rand*0.5),ra6+(rand*0.5))\n",
    "    ra7=ra-((0.5*2**0.5)*offset)\n",
    "    ra7=random.uniform(ra7-(rand*0.5),ra7+(rand*0.5))\n",
    "    ra8=random.uniform(ra-(rand*0.5),ra+(rand*0.5))\n",
    "    \n",
    "    \n",
    "    dec1=dec+((0.5*2**0.5)*offset)\n",
    "    dec1=random.uniform(dec1-(rand*0.5),dec1+(rand*0.5))\n",
    "    dec2=random.uniform(dec-(rand*0.5),dec+(rand*0.5))\n",
    "    dec3=dec-((0.5*2**0.5)*offset)\n",
    "    dec3=random.uniform(dec3-(rand*0.5),dec3+(rand*0.5))\n",
    "    dec4=dec-((0.5*2**0.5)*offset)\n",
    "    dec4=random.uniform(dec4-(rand*0.5),dec4+(rand*0.5))\n",
    "    dec5=dec-((0.5*2**0.5)*offset)\n",
    "    dec5=random.uniform(dec5-(rand*0.5),dec5+(rand*0.5))\n",
    "    dec6=random.uniform(dec-(rand*0.5),dec+(rand*0.5))\n",
    "    dec7=dec+((0.5*2**0.5)*offset)\n",
    "    dec7=random.uniform(dec7-(rand*0.5),dec7+(rand*0.5))\n",
    "    dec8=dec+((0.5*2**0.5)*offset)\n",
    "    dec8=random.uniform(dec8-(rand*0.5),dec8+(rand*0.5))\n",
    "    \n",
    "    RA=[ra,ra1,ra2,ra3,ra4,ra5,ra6,ra7,ra8]\n",
    "    DEC=[dec,dec1,dec2,dec3,dec4,dec5,dec6,dec7,dec8]\n",
    "    All=SkyCoord(RA,DEC)\n",
    "    print (All)\n",
    "    return All\n",
    "\n",
    "All=dither_dice9r(ra_dec,offset,rand)"
   ]
  },
  {
   "cell_type": "markdown",
   "metadata": {},
   "source": [
    "# LOOPING"
   ]
  },
  {
   "cell_type": "code",
   "execution_count": 1,
   "metadata": {
    "collapsed": false
   },
   "outputs": [
    {
     "name": "stdout",
     "output_type": "stream",
     "text": [
      "<SkyCoord (ICRS): (ra, dec) in deg\n",
      "    [(204.25, -29.86576111), (204.60440152, -29.5113253),\n",
      "     (204.60404228, -30.21891709), (203.89723675, -30.21917225),\n",
      "     (203.89542846, -29.51106704), (204.25023185, -29.86602311),\n",
      "     (204.60250262, -29.51282241), (204.60451212, -30.21801538),\n",
      "     (203.89656647, -30.21888788), (203.89674496, -29.5134158),\n",
      "     (204.25048314, -29.8646916), (204.60379573, -29.51328279),\n",
      "     (204.60429942, -30.21897337), (203.89776067, -30.21870094)]>\n"
     ]
    }
   ],
   "source": [
    "import astropy.units as u\n",
    "from astropy.coordinates import SkyCoord\n",
    "import random\n",
    "import math\n",
    "import itertools\n",
    "\n",
    "ra='13 37 00'\n",
    "dec='-29 51 56.74'\n",
    "ra_dec=SkyCoord('%s %s'%(ra, dec), unit=(u.hourangle,u.deg))\n",
    "offset=0.5*u.deg\n",
    "rand=10*u.arcsec\n",
    "number=14\n",
    "\n",
    "def dither_dice5rl(ra_dec, offset=30*u.arcsec, rand=15*u.arcsec, number=5):\n",
    "    if not isinstance(offset,u.Quantity):\n",
    "        offset=offset*u.arcsec\n",
    "    \"\"\"ra_dec=SkyCoord('%s %s'%(ra, dec), unit=(u.hourangle,u.deg))\"\"\"\n",
    "    ra=ra_dec.ra\n",
    "    dec=ra_dec.dec\n",
    "    loops=math.ceil(number/5.0)\n",
    "    \n",
    "    RA=[ra]\n",
    "    DEC=[dec]\n",
    "    for _ in itertools.repeat(None, loops):\n",
    "        ra1=ra+((0.5*2**0.5)*offset) #0.5*2**0.5 is due to adjacent side in a right angle triangle (cos45)\n",
    "        ra1=random.uniform(ra1-(rand*0.5),ra1+(rand*0.5)) #Sets randomness on region around point\n",
    "        RA.append(ra1)\n",
    "        ra2=ra+((0.5*2**0.5)*offset)\n",
    "        ra2=random.uniform(ra2-(rand*0.5),ra2+(rand*0.5))\n",
    "        RA.append(ra2)\n",
    "        ra3=ra-((0.5*2**0.5)*offset)\n",
    "        ra3=random.uniform(ra3-(rand*0.5),ra3+(rand*0.5))\n",
    "        RA.append(ra3)\n",
    "        ra4=ra-((0.5*2**0.5)*offset)\n",
    "        ra4=random.uniform(ra4-(rand*0.5),ra4+(rand*0.5))\n",
    "        RA.append(ra4)\n",
    "        ra5=random.uniform(ra-(rand*0.5),ra+(rand*0.5))\n",
    "        RA.append(ra5)\n",
    "\n",
    "        dec1=dec+((0.5*2**0.5)*offset)\n",
    "        dec1=random.uniform(dec1-(rand*0.5),dec1+(rand*0.5))\n",
    "        DEC.append(dec1)\n",
    "        dec2=dec-((0.5*2**0.5)*offset)\n",
    "        dec2=random.uniform(dec2-(rand*0.5),dec2+(rand*0.5))\n",
    "        DEC.append(dec2)\n",
    "        dec3=dec-((0.5*2**0.5)*offset)\n",
    "        dec3=random.uniform(dec3-(rand*0.5),dec3+(rand*0.5))\n",
    "        DEC.append(dec3)\n",
    "        dec4=dec+((0.5*2**0.5)*offset)\n",
    "        dec4=random.uniform(dec4-(rand*0.5),dec4+(rand*0.5))\n",
    "        DEC.append(dec4)\n",
    "        dec5=random.uniform(dec-(rand*0.5),dec+(rand*0.5))\n",
    "        DEC.append(dec5)\n",
    "    \n",
    "    RA=RA[:number]\n",
    "    DEC=DEC[:number]\n",
    "    All=SkyCoord(RA,DEC)\n",
    "    print (All)\n",
    "    return All\n",
    "\n",
    "All=dither_dice5rl(ra_dec,offset,rand,number)"
   ]
  },
  {
   "cell_type": "code",
   "execution_count": null,
   "metadata": {
    "collapsed": false
   },
   "outputs": [],
   "source": [
    "import math\n",
    "\n",
    "number =380\n",
    "loops=math.ceil(number/5.0)\n",
    "print (loops)"
   ]
  },
  {
   "cell_type": "code",
   "execution_count": null,
   "metadata": {
    "collapsed": false
   },
   "outputs": [],
   "source": [
    "RA=[1,2,3,4,5,6,7,8,9,0,1,2,3,4,5,6,7,8,9,0,1,2,3,4,5,6,7,8,9,0]"
   ]
  },
  {
   "cell_type": "code",
   "execution_count": null,
   "metadata": {
    "collapsed": false
   },
   "outputs": [],
   "source": [
    "st = RA[:9]\n",
    "print (st)"
   ]
  },
  {
   "cell_type": "code",
   "execution_count": null,
   "metadata": {
    "collapsed": true
   },
   "outputs": [],
   "source": []
  }
 ],
 "metadata": {
  "anaconda-cloud": {},
  "kernelspec": {
   "display_name": "Python [conda root]",
   "language": "python",
   "name": "conda-root-py"
  },
  "language_info": {
   "codemirror_mode": {
    "name": "ipython",
    "version": 3
   },
   "file_extension": ".py",
   "mimetype": "text/x-python",
   "name": "python",
   "nbconvert_exporter": "python",
   "pygments_lexer": "ipython3",
   "version": "3.5.2"
  }
 },
 "nbformat": 4,
 "nbformat_minor": 1
}
