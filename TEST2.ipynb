{
 "cells": [
  {
   "cell_type": "markdown",
   "metadata": {},
   "source": [
    "# DICE-5"
   ]
  },
  {
   "cell_type": "code",
   "execution_count": 46,
   "metadata": {
    "collapsed": false
   },
   "outputs": [
    {
     "name": "stdout",
     "output_type": "stream",
     "text": [
      "<SkyCoord (ICRS): (ra, dec) in deg\n",
      "    [(204.25, -29.86576111), (204.60355339, -29.51220772),\n",
      "     (204.60355339, -30.2193145), (203.89644661, -30.2193145),\n",
      "     (203.89644661, -29.51220772)]>\n"
     ]
    }
   ],
   "source": [
    "import astropy.units as u\n",
    "from astropy.coordinates import SkyCoord\n",
    "\n",
    "ra='13 37 00'\n",
    "dec='-29 51 56.74'\n",
    "ra_dec=SkyCoord('%s %s'%(ra, dec), unit=(u.hourangle,u.deg))\n",
    "offset=0.5*u.deg\n",
    "\n",
    "def dither_dice5(ra_dec,offset=30*u.arcsec):\n",
    "    if not isinstance(offset,u.Quantity):\n",
    "        offset=offset*u.arcsec\n",
    "    \"\"\"ra_dec=SkyCoord('%s %s'%(ra, dec), unit=(u.hourangle,u.deg))\"\"\"\n",
    "    ra=ra_dec.ra\n",
    "    dec=ra_dec.dec\n",
    "    \n",
    "    ra1=ra+((0.5*2**0.5)*offset)\n",
    "    ra1=ra1.to(u.hourangle)\n",
    "    ra2=ra+((0.5*2**0.5)*offset)\n",
    "    ra2=ra2.to(u.hourangle)\n",
    "    ra3=ra-((0.5*2**0.5)*offset)\n",
    "    ra3=ra3.to(u.hourangle)\n",
    "    ra4=ra-((0.5*2**0.5)*offset)\n",
    "    ra4=ra4.to(u.hourangle)\n",
    "    \n",
    "    dec1=dec+((0.5*2**0.5)*offset)\n",
    "    dec1=dec1.to(u.deg)\n",
    "    dec2=dec-((0.5*2**0.5)*offset)\n",
    "    dec2=dec2.to(u.deg)\n",
    "    dec3=dec-((0.5*2**0.5)*offset)\n",
    "    dec3=dec3.to(u.deg)\n",
    "    dec4=dec+((0.5*2**0.5)*offset)\n",
    "    dec4=dec4.to(u.deg)\n",
    "    \n",
    "    \n",
    "    RA=[ra,ra1,ra2,ra3,ra4]\n",
    "    DEC=[dec,dec1,dec2,dec3,dec4]\n",
    "    All=SkyCoord(RA,DEC)\n",
    "    print (All)\n",
    "    return All\n",
    "\n",
    "All=dither_dice5(ra_dec,offset)\n"
   ]
  },
  {
   "cell_type": "markdown",
   "metadata": {},
   "source": [
    "# DICE-9"
   ]
  },
  {
   "cell_type": "code",
   "execution_count": 47,
   "metadata": {
    "collapsed": false
   },
   "outputs": [
    {
     "name": "stdout",
     "output_type": "stream",
     "text": [
      "<SkyCoord (ICRS): (ra, dec) in deg\n",
      "    [(204.25, -29.86576111), (204.60355339, -29.51220772),\n",
      "     (204.60355339, -29.86576111), (204.60355339, -30.2193145),\n",
      "     (204.25, -30.2193145), (203.89644661, -30.2193145),\n",
      "     (203.89644661, -29.86576111), (203.89644661, -29.51220772),\n",
      "     (204.25, -29.51220772)]>\n"
     ]
    }
   ],
   "source": [
    "import astropy.units as u\n",
    "from astropy.coordinates import SkyCoord\n",
    "\n",
    "ra='13 37 00'\n",
    "dec='-29 51 56.74'\n",
    "ra_dec=SkyCoord('%s %s'%(ra, dec), unit=(u.hourangle,u.deg))\n",
    "offset=0.5*u.deg\n",
    "\n",
    "def dither_dice9(ra_dec,offset=30*u.arcsec):\n",
    "    if not isinstance(offset,u.Quantity):\n",
    "        offset=offset*u.arcsec\n",
    "    \"\"\"ra_dec=SkyCoord('%s %s'%(ra, dec), unit=(u.hourangle,u.deg))\"\"\"\n",
    "    ra=ra_dec.ra\n",
    "    dec=ra_dec.dec\n",
    "    \n",
    "    ra1=ra+((0.5*2**0.5)*offset)\n",
    "    ra1=ra1.to(u.hourangle)\n",
    "    ra2=ra+((0.5*2**0.5)*offset)\n",
    "    ra2=ra2.to(u.hourangle)\n",
    "    ra3=ra+((0.5*2**0.5)*offset)\n",
    "    ra3=ra3.to(u.hourangle)\n",
    "    ra5=ra-((0.5*2**0.5)*offset)\n",
    "    ra5=ra5.to(u.hourangle)\n",
    "    ra6=ra-((0.5*2**0.5)*offset)\n",
    "    ra6=ra6.to(u.hourangle)\n",
    "    ra7=ra-((0.5*2**0.5)*offset)\n",
    "    ra7=ra7.to(u.hourangle)\n",
    "    \n",
    "    \n",
    "    dec1=dec+((0.5*2**0.5)*offset)\n",
    "    dec1=dec1.to(u.deg)\n",
    "    dec3=dec-((0.5*2**0.5)*offset)\n",
    "    dec3=dec3.to(u.deg)\n",
    "    dec4=dec-((0.5*2**0.5)*offset)\n",
    "    dec4=dec4.to(u.deg)\n",
    "    dec5=dec-((0.5*2**0.5)*offset)\n",
    "    dec5=dec5.to(u.deg)\n",
    "    dec7=dec+((0.5*2**0.5)*offset)\n",
    "    dec7=dec7.to(u.deg)\n",
    "    dec8=dec+((0.5*2**0.5)*offset)\n",
    "    dec8=dec8.to(u.deg)    \n",
    "    \n",
    "    RA=[ra,ra1,ra2,ra3,ra,ra5,ra6,ra7,ra]\n",
    "    DEC=[dec,dec1,dec,dec3,dec4,dec5,dec,dec7,dec8]\n",
    "    All=SkyCoord(RA,DEC)\n",
    "    print (All)\n",
    "    return All\n",
    "\n",
    "All=dither_dice9(ra_dec,offset)"
   ]
  },
  {
   "cell_type": "markdown",
   "metadata": {},
   "source": [
    "# Random"
   ]
  },
  {
   "cell_type": "code",
   "execution_count": 52,
   "metadata": {
    "collapsed": false
   },
   "outputs": [
    {
     "name": "stdout",
     "output_type": "stream",
     "text": [
      "<SkyCoord (ICRS): (ra, dec) in deg\n",
      "    [(204.25, -29.86576111), (203.84883174, -30.17592602),\n",
      "     (204.26220197, -29.38872056), (204.44754756, -30.01011917),\n",
      "     (204.09016146, -29.88178457), (204.54660939, -29.37049458),\n",
      "     (204.29037096, -29.41100157), (204.49634891, -29.65735991)]>\n"
     ]
    }
   ],
   "source": [
    "import astropy.units as u\n",
    "from astropy.coordinates import SkyCoord\n",
    "import itertools\n",
    "\n",
    "ra='13 37 00'\n",
    "dec='-29 51 56.74'\n",
    "ra_dec=SkyCoord('%s %s'%(ra, dec), unit=(u.hourangle,u.deg))\n",
    "offset=0.5*u.deg\n",
    "\n",
    "def dither_dice(ra_dec,offset=30*u.arcsec):\n",
    "    if not isinstance(offset,u.Quantity):\n",
    "        offset=offset*u.arcsec\n",
    "    \"\"\"ra_dec=SkyCoord('%s %s'%(ra, dec), unit=(u.hourangle,u.deg))\"\"\"\n",
    "    ra=ra_dec.ra\n",
    "    dec=ra_dec.dec\n",
    "    RA=[ra]\n",
    "    DEC=[dec]\n",
    "    for _ in itertools.repeat(None, 7):\n",
    "        offset_ra=random.uniform(ra-offset,ra+offset)\n",
    "        RA.append(offset_ra)\n",
    "        offset_dec=random.uniform(dec-offset,dec+offset)\n",
    "        DEC.append(offset_dec)\n",
    "    \n",
    "    All=SkyCoord(RA,DEC)\n",
    "    print (All)\n",
    "    return All\n",
    "\n",
    "All=dither_dice(ra_dec,offset)"
   ]
  }
 ],
 "metadata": {
  "anaconda-cloud": {},
  "kernelspec": {
   "display_name": "Python [conda root]",
   "language": "python",
   "name": "conda-root-py"
  },
  "language_info": {
   "codemirror_mode": {
    "name": "ipython",
    "version": 3
   },
   "file_extension": ".py",
   "mimetype": "text/x-python",
   "name": "python",
   "nbconvert_exporter": "python",
   "pygments_lexer": "ipython3",
   "version": "3.5.2"
  }
 },
 "nbformat": 4,
 "nbformat_minor": 1
}
