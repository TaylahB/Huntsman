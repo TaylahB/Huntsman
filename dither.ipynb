{
 "cells": [
  {
   "cell_type": "markdown",
   "metadata": {},
   "source": [
    "# LOOPING DICE-9"
   ]
  },
  {
   "cell_type": "markdown",
   "metadata": {},
   "source": [
    "- Without Random"
   ]
  },
  {
   "cell_type": "code",
   "execution_count": 4,
   "metadata": {
    "collapsed": false
   },
   "outputs": [
    {
     "data": {
      "text/plain": [
       "'All9=dither_dice9(ra_dec,offset,loop)'"
      ]
     },
     "execution_count": 4,
     "metadata": {},
     "output_type": "execute_result"
    }
   ],
   "source": [
    "import astropy.units as u\n",
    "from astropy.coordinates import SkyCoord\n",
    "import math\n",
    "import itertools\n",
    "\n",
    "\"\"\"ra='13 37 00'\n",
    "dec='-29 51 56.74'\n",
    "ra_dec=SkyCoord('%s %s'%(ra, dec), unit=(u.hourangle,u.deg))\n",
    "offset=0.5*u.deg\n",
    "loop=13\n",
    "\"\"\"\n",
    "def dither_dice9(ra_dec, offset=30*u.arcsec, loop=5):\n",
    "    if not isinstance(offset,u.Quantity):\n",
    "        offset=offset*u.arcsec\n",
    "    \"\"\"ra_dec=SkyCoord('%s %s'%(ra, dec), unit=(u.hourangle,u.deg))\"\"\"\n",
    "    ra=ra_dec.ra\n",
    "    dec=ra_dec.dec\n",
    "    number=math.ceil(loop/9.0)\n",
    "    \n",
    "    RA_list=[ra]\n",
    "    DEC_list=[dec]\n",
    "    for _ in itertools.repeat(None, number):\n",
    "        ra1=ra+((0.5*2**0.5)*offset) #0.5*2**0.5 is due to adjacent side in a right angle triangle (cos45)\n",
    "        RA_list.append(ra1)\n",
    "        dec1=dec+((0.5*2**0.5)*offset)\n",
    "        DEC_list.append(dec1)\n",
    "        \n",
    "        ra2=ra+((0.5*2**0.5)*offset)\n",
    "        RA_list.append(ra2)\n",
    "        DEC_list.append(dec)\n",
    "        \n",
    "        ra3=ra+((0.5*2**0.5)*offset)\n",
    "        RA_list.append(ra3)\n",
    "        dec3=dec-((0.5*2**0.5)*offset)\n",
    "        DEC_list.append(dec3)\n",
    "        \n",
    "        RA_list.append(ra)\n",
    "        dec4=dec-((0.5*2**0.5)*offset)\n",
    "        DEC_list.append(dec4)\n",
    "        \n",
    "        ra5=ra-((0.5*2**0.5)*offset)\n",
    "        RA_list.append(ra5)\n",
    "        dec5=dec-((0.5*2**0.5)*offset)\n",
    "        DEC_list.append(dec5)\n",
    "        \n",
    "        ra6=ra-((0.5*2**0.5)*offset)\n",
    "        RA_list.append(ra6)\n",
    "        DEC_list.append(dec)\n",
    "        \n",
    "        ra7=ra-((0.5*2**0.5)*offset)\n",
    "        RA_list.append(ra7)\n",
    "        dec7=dec+((0.5*2**0.5)*offset)\n",
    "        DEC_list.append(dec7)\n",
    "        \n",
    "        RA_list.append(ra)\n",
    "        dec8=dec+((0.5*2**0.5)*offset)\n",
    "        DEC_list.append(dec8)\n",
    "        \n",
    "        \n",
    "        RA_list.append(ra)\n",
    "        DEC_list.append(dec)\n",
    "        \n",
    "    \n",
    "    RA_final_list=RA_list[:loop]\n",
    "    DEC_final_list=DEC_list[:loop]\n",
    "    All=SkyCoord(RA_final_list,DEC_final_list)\n",
    "    return All\n",
    "\n",
    "\"\"\"All9=dither_dice9(ra_dec,offset,loop)\"\"\""
   ]
  },
  {
   "cell_type": "markdown",
   "metadata": {},
   "source": [
    "# LOOPING DICE-5"
   ]
  },
  {
   "cell_type": "markdown",
   "metadata": {},
   "source": [
    "- Without Random"
   ]
  },
  {
   "cell_type": "code",
   "execution_count": 5,
   "metadata": {
    "collapsed": false
   },
   "outputs": [
    {
     "data": {
      "text/plain": [
       "'All5=dither_dice5(ra_dec,offset,loop)'"
      ]
     },
     "execution_count": 5,
     "metadata": {},
     "output_type": "execute_result"
    }
   ],
   "source": [
    "import astropy.units as u\n",
    "from astropy.coordinates import SkyCoord\n",
    "import math\n",
    "import itertools\n",
    "\n",
    "\"\"\"ra='13 37 00'\n",
    "dec='-29 51 56.74'\n",
    "ra_dec=SkyCoord('%s %s'%(ra, dec), unit=(u.hourangle,u.deg))\n",
    "offset=0.5*u.deg\n",
    "loop=1\"\"\"\n",
    "\n",
    "def dither_dice5(ra_dec, offset=30*u.arcsec, loop=5):\n",
    "    if not isinstance(offset,u.Quantity):\n",
    "        offset=offset*u.arcsec\n",
    "    \"\"\"ra_dec=SkyCoord('%s %s'%(ra, dec), unit=(u.hourangle,u.deg))\"\"\"\n",
    "    ra=ra_dec.ra\n",
    "    dec=ra_dec.dec\n",
    "    number=math.ceil(loop/5.0)\n",
    "    \n",
    "    RA_list=[ra]\n",
    "    DEC_list=[dec]\n",
    "    for _ in itertools.repeat(None, number):\n",
    "        ra1=ra+((0.5*2**0.5)*offset) #0.5*2**0.5 is due to adjacent side in a right angle triangle (cos45)\n",
    "        RA_list.append(ra1)\n",
    "        dec1=dec+((0.5*2**0.5)*offset)\n",
    "        DEC_list.append(dec1)\n",
    "        \n",
    "        ra2=ra+((0.5*2**0.5)*offset)\n",
    "        RA_list.append(ra2)\n",
    "        dec2=dec-((0.5*2**0.5)*offset)\n",
    "        DEC_list.append(dec2)\n",
    "        \n",
    "        ra3=ra-((0.5*2**0.5)*offset)\n",
    "        RA_list.append(ra3)\n",
    "        dec3=dec-((0.5*2**0.5)*offset)\n",
    "        DEC_list.append(dec3)\n",
    "        \n",
    "        ra4=ra-((0.5*2**0.5)*offset)\n",
    "        RA_list.append(ra4)\n",
    "        dec4=dec+((0.5*2**0.5)*offset)\n",
    "        DEC_list.append(dec4)\n",
    "        \n",
    "        RA_list.append(ra)\n",
    "        DEC_list.append(dec)\n",
    "        \n",
    "    \n",
    "    RA_final_list=RA_list[:loop]\n",
    "    DEC_final_list=DEC_list[:loop]\n",
    "    All=SkyCoord(RA_final_list,DEC_final_list)\n",
    "    return All\n",
    "\n",
    "\"\"\"All5=dither_dice5(ra_dec,offset,loop)\"\"\""
   ]
  },
  {
   "cell_type": "markdown",
   "metadata": {},
   "source": [
    "# Random For All :)"
   ]
  },
  {
   "cell_type": "markdown",
   "metadata": {},
   "source": [
    "- NOTE: loop only works if dice_list is one element"
   ]
  },
  {
   "cell_type": "code",
   "execution_count": 6,
   "metadata": {
    "collapsed": false
   },
   "outputs": [
    {
     "data": {
      "text/plain": [
       "'All=dither_random(dice_list,offset)'"
      ]
     },
     "execution_count": 6,
     "metadata": {},
     "output_type": "execute_result"
    }
   ],
   "source": [
    "import numpy as np\n",
    "import astropy.units as u\n",
    "from astropy.coordinates import SkyCoord\n",
    "import itertools\n",
    "import random\n",
    "\n",
    "\"\"\"dice_list=All9\n",
    "offset=30*u.arcsec\n",
    "loop=3\"\"\"\n",
    "\n",
    "def dither_random(dice_list,offset,loop=1):\n",
    "    if not isinstance(offset,u.Quantity):\n",
    "        offset=offset*u.arcsec\n",
    "    if loop>1:\n",
    "        ra=dice_list.ra\n",
    "        dec=dice_list.dec\n",
    "        RA=[]\n",
    "        DEC=[]\n",
    "        for _ in itertools.repeat(None, loop):\n",
    "            offset_ra=random.uniform(ra-(offset*0.5),ra+(offset*0.5))\n",
    "            RA.append(offset_ra)\n",
    "            offset_dec=random.uniform(dec-(offset*0.5),dec+(offset*0.5))\n",
    "            DEC.append(offset_dec)\n",
    "    else:\n",
    "        #RA=[dice_list[0].ra]\n",
    "        #DEC=[dice_list[0].dec]\n",
    "        RA=random.uniform(dice_list.ra-(offset*0.5),dice_list.ra+(offset*0.5))\n",
    "        DEC=random.uniform(dice_list.dec-(offset*0.5),dice_list.dec+(offset*0.5))\n",
    "        \n",
    "\n",
    "    All=SkyCoord(RA,DEC)\n",
    "    return All\n",
    "\n",
    "\"\"\"All=dither_random(dice_list,offset)\"\"\""
   ]
  }
 ],
 "metadata": {
  "anaconda-cloud": {},
  "kernelspec": {
   "display_name": "Python [conda root]",
   "language": "python",
   "name": "conda-root-py"
  },
  "language_info": {
   "codemirror_mode": {
    "name": "ipython",
    "version": 3
   },
   "file_extension": ".py",
   "mimetype": "text/x-python",
   "name": "python",
   "nbconvert_exporter": "python",
   "pygments_lexer": "ipython3",
   "version": "3.5.2"
  }
 },
 "nbformat": 4,
 "nbformat_minor": 1
}
